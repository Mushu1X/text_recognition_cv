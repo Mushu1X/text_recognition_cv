{
  "nbformat": 4,
  "nbformat_minor": 0,
  "metadata": {
    "colab": {
      "provenance": []
    },
    "kernelspec": {
      "name": "python3",
      "display_name": "Python 3"
    },
    "language_info": {
      "name": "python"
    }
  },
  "cells": [
    {
      "cell_type": "code",
      "execution_count": 1,
      "metadata": {
        "id": "2RW2zSAYTypW"
      },
      "outputs": [],
      "source": [
        "import torch\n",
        "import torchvision\n",
        "import torch.nn as nn\n",
        "import torch.nn.functional as F\n",
        "import torch.optim as optim\n",
        "import math\n",
        "import torchvision.transforms as transforms\n",
        "import numpy as np\n",
        "import matplotlib.pyplot as plt\n",
        "torch.set_printoptions(linewidth=120)\n",
        "torch.set_grad_enabled(True)\n",
        "\n",
        "#To manage whether there is a google drive connected or not\n",
        "drive_mounted = False\n",
        ""
      ]
    },
    {
      "cell_type": "code",
      "source": [
        "from google.colab import drive\n",
        "try:\n",
        "    drive.mount('/content/drive', force_remount=True)\n",
        "    drive_mounted = True\n",
        "except:\n",
        "    drive_mounted = False\n",
        "\n"
      ],
      "metadata": {
        "colab": {
          "base_uri": "https://localhost:8080/"
        },
        "id": "biIV6Lz0T0_N",
        "outputId": "577107c6-b4d6-4796-97e3-d3165c86c46b"
      },
      "execution_count": 4,
      "outputs": [
        {
          "output_type": "stream",
          "name": "stdout",
          "text": [
            "Mounted at /content/drive\n"
          ]
        }
      ]
    },
    {
      "cell_type": "code",
      "source": [
        "# using Chars74k dataset\n",
        "\n",
        "import tarfile\n",
        "\n",
        "!wget -O EnglishFnt.tgz http://www.ee.surrey.ac.uk/CVSSP/demos/chars74k/EnglishFnt.tgz\n",
        "tar = tarfile.open('EnglishFnt.tgz')"
      ],
      "metadata": {
        "colab": {
          "base_uri": "https://localhost:8080/"
        },
        "id": "-r6cXIL7T8vI",
        "outputId": "d4902e1f-925c-4ed7-9c8d-cb9bd33adb2a"
      },
      "execution_count": 5,
      "outputs": [
        {
          "output_type": "stream",
          "name": "stdout",
          "text": [
            "--2024-10-28 18:08:59--  http://www.ee.surrey.ac.uk/CVSSP/demos/chars74k/EnglishFnt.tgz\n",
            "Resolving www.ee.surrey.ac.uk (www.ee.surrey.ac.uk)... 131.227.80.48\n",
            "Connecting to www.ee.surrey.ac.uk (www.ee.surrey.ac.uk)|131.227.80.48|:80... connected.\n",
            "HTTP request sent, awaiting response... 301 Moved Permanently\n",
            "Location: https://info-ee.surrey.ac.uk/CVSSP/demos/chars74k/EnglishFnt.tgz [following]\n",
            "--2024-10-28 18:08:59--  https://info-ee.surrey.ac.uk/CVSSP/demos/chars74k/EnglishFnt.tgz\n",
            "Resolving info-ee.surrey.ac.uk (info-ee.surrey.ac.uk)... 51.132.210.128\n",
            "Connecting to info-ee.surrey.ac.uk (info-ee.surrey.ac.uk)|51.132.210.128|:443... connected.\n",
            "HTTP request sent, awaiting response... 200 OK\n",
            "Cookie coming from info-ee.surrey.ac.uk attempted to set domain to rp-web-iee-01.azurewebsites.net\n",
            "Cookie coming from info-ee.surrey.ac.uk attempted to set domain to rp-web-iee-01.azurewebsites.net\n",
            "Length: 49817950 (48M) [application/octet-stream]\n",
            "Saving to: ‘EnglishFnt.tgz’\n",
            "\n",
            "EnglishFnt.tgz      100%[===================>]  47.51M  19.9MB/s    in 2.4s    \n",
            "\n",
            "2024-10-28 18:09:02 (19.9 MB/s) - ‘EnglishFnt.tgz’ saved [49817950/49817950]\n",
            "\n"
          ]
        }
      ]
    },
    {
      "cell_type": "code",
      "source": [
        "tar.extractall('./EnglishFnt')"
      ],
      "metadata": {
        "id": "Yf_dTw-RUR99"
      },
      "execution_count": 6,
      "outputs": []
    },
    {
      "cell_type": "code",
      "source": [
        "tar.close()"
      ],
      "metadata": {
        "id": "CuIKdsAuXXyE"
      },
      "execution_count": 7,
      "outputs": []
    },
    {
      "cell_type": "markdown",
      "source": [
        "  Image Augmentation and loading"
      ],
      "metadata": {
        "id": "pAA3WqFZZwJy"
      }
    },
    {
      "cell_type": "code",
      "source": [
        "# transforms on datasets\n",
        "\n",
        "\n",
        "data = torchvision.datasets.ImageFolder(\n",
        "    root='./EnglishFnt/English/Fnt',\n",
        "    transform=transforms.Compose([\n",
        "        transforms.Resize((48,48)),\n",
        "        transforms.RandomHorizontalFlip(),\n",
        "        transforms.ToTensor(),\n",
        "        transforms.Normalize((0.5,), (0.5,))\n",
        "        ])\n",
        ")\n"
      ],
      "metadata": {
        "id": "tAJFRzXLXhzY"
      },
      "execution_count": 9,
      "outputs": []
    },
    {
      "cell_type": "code",
      "source": [
        "import cv2\n",
        "import numpy as np\n",
        "import matplotlib.pyplot as plt\n",
        "\n",
        "\n",
        "image_path = '/content/EnglishFnt/English/Fnt/Sample001/img001-00001.png'\n",
        "\n",
        "image_1 = cv2.imread(image_path, cv2.IMREAD_GRAYSCALE)\n",
        "\n",
        "plt.imshow(image_1, cmap = 'gray')\n",
        "plt.axis('off')\n",
        "plt.show()\n",
        "\n",
        "# resize image\n",
        "resize_image_1 = cv2.resize(image_1, (48,48))\n",
        "\n",
        "\n",
        "\n",
        "# normalize image\n",
        "\n",
        "normalized_image1 = (resize_image_1 / 255.0 - 0.5 ) / 0.5\n",
        "\n",
        "\n",
        "\n",
        "# convert image to tensor (N, C, H , W)\n",
        "input_tensor = np.expand_dims(normalized_image1, axis=(0, 1))  # Add batch and channel dimensions\n"
      ],
      "metadata": {
        "colab": {
          "base_uri": "https://localhost:8080/",
          "height": 406
        },
        "id": "OvGim19BZt-2",
        "outputId": "31c806a8-02e5-4020-8067-48338bf7bfee"
      },
      "execution_count": 11,
      "outputs": [
        {
          "output_type": "display_data",
          "data": {
            "text/plain": [
              "<Figure size 640x480 with 1 Axes>"
            ],
            "image/png": "[encoded data removed]"
          },
          "metadata": {}
        }
      ]
    },
    {
      "cell_type": "code",
      "source": [
        "print(input_tensor.shape)"
      ],
      "metadata": {
        "colab": {
          "base_uri": "https://localhost:8080/"
        },
        "id": "X3GPi6W-e8WW",
        "outputId": "581a2950-ed40-449c-ab40-ec34149bc61a"
      },
      "execution_count": 12,
      "outputs": [
        {
          "output_type": "stream",
          "name": "stdout",
          "text": [
            "(1, 1, 48, 48)\n"
          ]
        }
      ]
    },
    {
      "cell_type": "code",
      "source": [
        "from torch.utils.data import random_split, DataLoader\n",
        "\n",
        "generator1 = torch.Generator().manual_seed(42)\n",
        "\n",
        "test_split = 0.3\n",
        "\n",
        "\n",
        "test_size = int(test_split * len(data))\n",
        "train_size = len(data) - test_size\n",
        "\n",
        "\n",
        "\n",
        "\n",
        "train_dataset, test_dataset = random_split(data, [train_size, test_size], generator=generator1)\n",
        "\n",
        "# val\n",
        "val_size = int(0.5 * len(test_dataset))\n",
        "test_size = len(test_dataset) - val_size\n",
        "\n",
        "\n",
        "val_dataset, test_dataset = random_split(test_dataset, [val_size, test_size], generator=generator1)\n",
        "\n",
        "\n",
        "# Dataloader\n",
        "batch_size = 32\n",
        "\n",
        "train_loader = DataLoader(train_dataset, batch_size=batch_size, shuffle= True)\n",
        "test_loader = DataLoader(test_dataset, batch_size=batch_size, shuffle= True)\n",
        "val_loader = DataLoader(val_dataset, batch_size=batch_size, shuffle= True)\n"
      ],
      "metadata": {
        "id": "sd-4aFsqfELR"
      },
      "execution_count": 19,
      "outputs": []
    },
    {
      "cell_type": "code",
      "source": [
        "# Train dataset\n",
        "\n",
        "for batch in train_loader:\n",
        "  images, labels = batch\n",
        "  print(images.shape)\n",
        "  print(labels.shape)\n",
        "  break"
      ],
      "metadata": {
        "colab": {
          "base_uri": "https://localhost:8080/"
        },
        "id": "zG-8U54ziVER",
        "outputId": "c09c761a-1196-40fd-cdf4-45bf7e63fc1b"
      },
      "execution_count": 21,
      "outputs": [
        {
          "output_type": "stream",
          "name": "stdout",
          "text": [
            "torch.Size([32, 3, 48, 48])\n",
            "torch.Size([32])\n"
          ]
        }
      ]
    },
    {
      "cell_type": "markdown",
      "source": [],
      "metadata": {
        "id": "RuN6prHtjtJb"
      }
    },
    {
      "cell_type": "code",
      "source": [
        "class OCRNet(nn.Module):\n",
        "  def __init__(self, num_features):\n",
        "\n",
        "    super(OCRNet, self).__init__()\n",
        "    self.conv1 = nn.Conv2d(3, 16, kernel_size = 3, stride = 1, padding = 1)\n",
        "    self.conv2 = nn.Conv2d(16, 32, kernel_size = 3, stride = 1, padding = 1)\n",
        "    self.fc = nn.Linear(num_features, 62)\n",
        "\n",
        "\n",
        "  def forward(self, x):\n",
        "    x = F.relu(self.conv1(x))\n",
        "    x= F.relu(self.conv2(x))\n",
        "    x = x.view(x.size(0), -1)\n",
        "    x = self.fc(x)\n",
        "\n",
        "    return x\n",
        "\n",
        "\n",
        "num_features = 32 * 48 * 48\n",
        "model = OCRNet(num_features)\n",
        "\n"
      ],
      "metadata": {
        "id": "wUXZbnBgm8N3"
      },
      "execution_count": 22,
      "outputs": []
    },
    {
      "cell_type": "code",
      "source": [
        "# optimizer\n",
        "\n",
        "optimizer = optim.SGD(model.parameters(), lr= 0.01, momentum= 0.9)\n",
        "criterion = nn.CrossEntropyLoss()\n",
        "\n"
      ],
      "metadata": {
        "id": "G1AFSvd22vNi"
      },
      "execution_count": 23,
      "outputs": []
    },
    {
      "cell_type": "code",
      "source": [
        "# Training\n",
        "\n",
        "def train(model, train_loader, optimizer, criterion, num_epochs, print_every = 100):\n",
        "\n",
        "  model.train()\n",
        "  for epoch in range(num_epochs):\n",
        "    running_loss = 0.0\n",
        "    running_count = 0\n",
        "    for i, (images, labels) in enumerate (train_loader):\n",
        "      optimizer.zero_grad()\n",
        "      outputs = model(images)\n",
        "      loss = criterion(outputs, labels)\n",
        "      loss.backward()\n",
        "      optimizer.step()\n",
        "      running_loss += loss.item()\n",
        "      running_count += 1\n",
        "\n",
        "\n",
        "\n",
        "      # Print average loss every 'print_every' mini-batches\n",
        "      if (i+1) % print_every == 0:\n",
        "\n",
        "          print(f\"Epoch [{epoch+1}/{num_epochs}], Step [{i+1}/{len(train_loader)}], Average Loss: {running_loss/running_count:.4f}\")\n",
        "          running_loss = 0.0\n",
        "          running_count = 0\n",
        "\n",
        "  # Print loss after each epoch\n",
        "  epoch_loss = running_loss / len(train_loader)\n",
        "  print(f\"\\nEnd of Epoch {epoch+1}/{num_epochs}, Average Epoch Loss: {epoch_loss:.4f}\")\n",
        "\n"
      ],
      "metadata": {
        "id": "pyCZQEdi3BJl"
      },
      "execution_count": 28,
      "outputs": []
    },
    {
      "cell_type": "code",
      "source": [
        "train(model, train_loader, optimizer, criterion, num_epochs=20)"
      ],
      "metadata": {
        "colab": {
          "base_uri": "https://localhost:8080/"
        },
        "id": "ADJLLTEo4YPx",
        "outputId": "6c8812ba-38c8-4d01-aebc-9eee225375bd"
      },
      "execution_count": 30,
      "outputs": [
        {
          "output_type": "stream",
          "name": "stdout",
          "text": [
            "Epoch [1/20], Step [100/1378], Average Loss: 0.0731\n",
            "Epoch [1/20], Step [200/1378], Average Loss: 0.0739\n",
            "Epoch [1/20], Step [300/1378], Average Loss: 0.0606\n",
            "Epoch [1/20], Step [400/1378], Average Loss: 0.0771\n",
            "Epoch [1/20], Step [500/1378], Average Loss: 0.0897\n",
            "Epoch [1/20], Step [600/1378], Average Loss: 0.0797\n",
            "Epoch [1/20], Step [700/1378], Average Loss: 0.0727\n",
            "Epoch [1/20], Step [800/1378], Average Loss: 0.0850\n",
            "Epoch [1/20], Step [900/1378], Average Loss: 0.0981\n",
            "Epoch [1/20], Step [1000/1378], Average Loss: 0.0970\n",
            "Epoch [1/20], Step [1100/1378], Average Loss: 0.0817\n",
            "Epoch [1/20], Step [1200/1378], Average Loss: 0.0918\n",
            "Epoch [1/20], Step [1300/1378], Average Loss: 0.0895\n",
            "Epoch [2/20], Step [100/1378], Average Loss: 0.0749\n",
            "Epoch [2/20], Step [200/1378], Average Loss: 0.0794\n",
            "Epoch [2/20], Step [300/1378], Average Loss: 0.0824\n",
            "Epoch [2/20], Step [400/1378], Average Loss: 0.0844\n",
            "Epoch [2/20], Step [500/1378], Average Loss: 0.0768\n",
            "Epoch [2/20], Step [600/1378], Average Loss: 0.0917\n",
            "Epoch [2/20], Step [700/1378], Average Loss: 0.0837\n",
            "Epoch [2/20], Step [800/1378], Average Loss: 0.0908\n",
            "Epoch [2/20], Step [900/1378], Average Loss: 0.0931\n",
            "Epoch [2/20], Step [1000/1378], Average Loss: 0.0821\n",
            "Epoch [2/20], Step [1100/1378], Average Loss: 0.0934\n",
            "Epoch [2/20], Step [1200/1378], Average Loss: 0.0828\n",
            "Epoch [2/20], Step [1300/1378], Average Loss: 0.1005\n",
            "Epoch [3/20], Step [100/1378], Average Loss: 0.0648\n",
            "Epoch [3/20], Step [200/1378], Average Loss: 0.0816\n",
            "Epoch [3/20], Step [300/1378], Average Loss: 0.0767\n",
            "Epoch [3/20], Step [400/1378], Average Loss: 0.0696\n",
            "Epoch [3/20], Step [500/1378], Average Loss: 0.0695\n",
            "Epoch [3/20], Step [600/1378], Average Loss: 0.0843\n",
            "Epoch [3/20], Step [700/1378], Average Loss: 0.0747\n",
            "Epoch [3/20], Step [800/1378], Average Loss: 0.0958\n",
            "Epoch [3/20], Step [900/1378], Average Loss: 0.0894\n",
            "Epoch [3/20], Step [1000/1378], Average Loss: 0.0976\n",
            "Epoch [3/20], Step [1100/1378], Average Loss: 0.0753\n",
            "Epoch [3/20], Step [1200/1378], Average Loss: 0.0770\n",
            "Epoch [3/20], Step [1300/1378], Average Loss: 0.0953\n",
            "Epoch [4/20], Step [100/1378], Average Loss: 0.0801\n",
            "Epoch [4/20], Step [200/1378], Average Loss: 0.0635\n",
            "Epoch [4/20], Step [300/1378], Average Loss: 0.0840\n",
            "Epoch [4/20], Step [400/1378], Average Loss: 0.0703\n",
            "Epoch [4/20], Step [500/1378], Average Loss: 0.0661\n",
            "Epoch [4/20], Step [600/1378], Average Loss: 0.0824\n",
            "Epoch [4/20], Step [700/1378], Average Loss: 0.0660\n",
            "Epoch [4/20], Step [800/1378], Average Loss: 0.0768\n",
            "Epoch [4/20], Step [900/1378], Average Loss: 0.0826\n",
            "Epoch [4/20], Step [1000/1378], Average Loss: 0.0872\n",
            "Epoch [4/20], Step [1100/1378], Average Loss: 0.0844\n",
            "Epoch [4/20], Step [1200/1378], Average Loss: 0.0867\n",
            "Epoch [4/20], Step [1300/1378], Average Loss: 0.0945\n",
            "Epoch [5/20], Step [100/1378], Average Loss: 0.0701\n",
            "Epoch [5/20], Step [200/1378], Average Loss: 0.0617\n",
            "Epoch [5/20], Step [300/1378], Average Loss: 0.0678\n",
            "Epoch [5/20], Step [400/1378], Average Loss: 0.0665\n",
            "Epoch [5/20], Step [500/1378], Average Loss: 0.0677\n",
            "Epoch [5/20], Step [600/1378], Average Loss: 0.0826\n",
            "Epoch [5/20], Step [700/1378], Average Loss: 0.0958\n",
            "Epoch [5/20], Step [800/1378], Average Loss: 0.0876\n",
            "Epoch [5/20], Step [900/1378], Average Loss: 0.0874\n",
            "Epoch [5/20], Step [1000/1378], Average Loss: 0.1024\n",
            "Epoch [5/20], Step [1100/1378], Average Loss: 0.0798\n",
            "Epoch [5/20], Step [1200/1378], Average Loss: 0.0740\n",
            "Epoch [5/20], Step [1300/1378], Average Loss: 0.0779\n",
            "Epoch [6/20], Step [100/1378], Average Loss: 0.0727\n",
            "Epoch [6/20], Step [200/1378], Average Loss: 0.0757\n",
            "Epoch [6/20], Step [300/1378], Average Loss: 0.0673\n",
            "Epoch [6/20], Step [400/1378], Average Loss: 0.0669\n",
            "Epoch [6/20], Step [500/1378], Average Loss: 0.0902\n",
            "Epoch [6/20], Step [600/1378], Average Loss: 0.0725\n",
            "Epoch [6/20], Step [700/1378], Average Loss: 0.0713\n",
            "Epoch [6/20], Step [800/1378], Average Loss: 0.0875\n",
            "Epoch [6/20], Step [900/1378], Average Loss: 0.0842\n",
            "Epoch [6/20], Step [1000/1378], Average Loss: 0.0843\n",
            "Epoch [6/20], Step [1100/1378], Average Loss: 0.0792\n",
            "Epoch [6/20], Step [1200/1378], Average Loss: 0.0927\n",
            "Epoch [6/20], Step [1300/1378], Average Loss: 0.0809\n",
            "Epoch [7/20], Step [100/1378], Average Loss: 0.0859\n",
            "Epoch [7/20], Step [200/1378], Average Loss: 0.0680\n",
            "Epoch [7/20], Step [300/1378], Average Loss: 0.0611\n",
            "Epoch [7/20], Step [400/1378], Average Loss: 0.0813\n",
            "Epoch [7/20], Step [500/1378], Average Loss: 0.0668\n",
            "Epoch [7/20], Step [600/1378], Average Loss: 0.0675\n",
            "Epoch [7/20], Step [700/1378], Average Loss: 0.0850\n",
            "Epoch [7/20], Step [800/1378], Average Loss: 0.0846\n",
            "Epoch [7/20], Step [900/1378], Average Loss: 0.0777\n",
            "Epoch [7/20], Step [1000/1378], Average Loss: 0.0908\n",
            "Epoch [7/20], Step [1100/1378], Average Loss: 0.0973\n",
            "Epoch [7/20], Step [1200/1378], Average Loss: 0.0724\n",
            "Epoch [7/20], Step [1300/1378], Average Loss: 0.0738\n",
            "Epoch [8/20], Step [100/1378], Average Loss: 0.0579\n",
            "Epoch [8/20], Step [200/1378], Average Loss: 0.0721\n",
            "Epoch [8/20], Step [300/1378], Average Loss: 0.0741\n",
            "Epoch [8/20], Step [400/1378], Average Loss: 0.0665\n",
            "Epoch [8/20], Step [500/1378], Average Loss: 0.0918\n",
            "Epoch [8/20], Step [600/1378], Average Loss: 0.0735\n",
            "Epoch [8/20], Step [700/1378], Average Loss: 0.0586\n",
            "Epoch [8/20], Step [800/1378], Average Loss: 0.0884\n",
            "Epoch [8/20], Step [900/1378], Average Loss: 0.0885\n",
            "Epoch [8/20], Step [1000/1378], Average Loss: 0.0717\n",
            "Epoch [8/20], Step [1100/1378], Average Loss: 0.0735\n",
            "Epoch [8/20], Step [1200/1378], Average Loss: 0.0701\n",
            "Epoch [8/20], Step [1300/1378], Average Loss: 0.0824\n",
            "Epoch [9/20], Step [100/1378], Average Loss: 0.0604\n",
            "Epoch [9/20], Step [200/1378], Average Loss: 0.0508\n",
            "Epoch [9/20], Step [300/1378], Average Loss: 0.0627\n",
            "Epoch [9/20], Step [400/1378], Average Loss: 0.0791\n",
            "Epoch [9/20], Step [500/1378], Average Loss: 0.0783\n",
            "Epoch [9/20], Step [600/1378], Average Loss: 0.0691\n",
            "Epoch [9/20], Step [700/1378], Average Loss: 0.0791\n",
            "Epoch [9/20], Step [800/1378], Average Loss: 0.0685\n",
            "Epoch [9/20], Step [900/1378], Average Loss: 0.0901\n",
            "Epoch [9/20], Step [1000/1378], Average Loss: 0.0631\n",
            "Epoch [9/20], Step [1100/1378], Average Loss: 0.0848\n",
            "Epoch [9/20], Step [1200/1378], Average Loss: 0.0823\n",
            "Epoch [9/20], Step [1300/1378], Average Loss: 0.0908\n",
            "Epoch [10/20], Step [100/1378], Average Loss: 0.0621\n",
            "Epoch [10/20], Step [200/1378], Average Loss: 0.0674\n",
            "Epoch [10/20], Step [300/1378], Average Loss: 0.0824\n",
            "Epoch [10/20], Step [400/1378], Average Loss: 0.0688\n",
            "Epoch [10/20], Step [500/1378], Average Loss: 0.0640\n",
            "Epoch [10/20], Step [600/1378], Average Loss: 0.0767\n",
            "Epoch [10/20], Step [700/1378], Average Loss: 0.0606\n",
            "Epoch [10/20], Step [800/1378], Average Loss: 0.0809\n",
            "Epoch [10/20], Step [900/1378], Average Loss: 0.0753\n",
            "Epoch [10/20], Step [1000/1378], Average Loss: 0.0766\n",
            "Epoch [10/20], Step [1100/1378], Average Loss: 0.0982\n",
            "Epoch [10/20], Step [1200/1378], Average Loss: 0.0757\n",
            "Epoch [10/20], Step [1300/1378], Average Loss: 0.0993\n",
            "Epoch [11/20], Step [100/1378], Average Loss: 0.0539\n",
            "Epoch [11/20], Step [200/1378], Average Loss: 0.0522\n",
            "Epoch [11/20], Step [300/1378], Average Loss: 0.0670\n",
            "Epoch [11/20], Step [400/1378], Average Loss: 0.0706\n",
            "Epoch [11/20], Step [500/1378], Average Loss: 0.0826\n",
            "Epoch [11/20], Step [600/1378], Average Loss: 0.0556\n",
            "Epoch [11/20], Step [700/1378], Average Loss: 0.0794\n",
            "Epoch [11/20], Step [800/1378], Average Loss: 0.0749\n",
            "Epoch [11/20], Step [900/1378], Average Loss: 0.0783\n",
            "Epoch [11/20], Step [1000/1378], Average Loss: 0.0864\n",
            "Epoch [11/20], Step [1100/1378], Average Loss: 0.0819\n",
            "Epoch [11/20], Step [1200/1378], Average Loss: 0.0733\n",
            "Epoch [11/20], Step [1300/1378], Average Loss: 0.0667\n",
            "Epoch [12/20], Step [100/1378], Average Loss: 0.0684\n",
            "Epoch [12/20], Step [200/1378], Average Loss: 0.0672\n",
            "Epoch [12/20], Step [300/1378], Average Loss: 0.0528\n",
            "Epoch [12/20], Step [400/1378], Average Loss: 0.0777\n",
            "Epoch [12/20], Step [500/1378], Average Loss: 0.0676\n",
            "Epoch [12/20], Step [600/1378], Average Loss: 0.0720\n",
            "Epoch [12/20], Step [700/1378], Average Loss: 0.0818\n",
            "Epoch [12/20], Step [800/1378], Average Loss: 0.0739\n",
            "Epoch [12/20], Step [900/1378], Average Loss: 0.0846\n",
            "Epoch [12/20], Step [1000/1378], Average Loss: 0.0747\n",
            "Epoch [12/20], Step [1100/1378], Average Loss: 0.0723\n",
            "Epoch [12/20], Step [1200/1378], Average Loss: 0.0792\n",
            "Epoch [12/20], Step [1300/1378], Average Loss: 0.0741\n",
            "Epoch [13/20], Step [100/1378], Average Loss: 0.0577\n",
            "Epoch [13/20], Step [200/1378], Average Loss: 0.0524\n",
            "Epoch [13/20], Step [300/1378], Average Loss: 0.0546\n",
            "Epoch [13/20], Step [400/1378], Average Loss: 0.0562\n",
            "Epoch [13/20], Step [500/1378], Average Loss: 0.0748\n",
            "Epoch [13/20], Step [600/1378], Average Loss: 0.0864\n",
            "Epoch [13/20], Step [700/1378], Average Loss: 0.0788\n",
            "Epoch [13/20], Step [800/1378], Average Loss: 0.0737\n",
            "Epoch [13/20], Step [900/1378], Average Loss: 0.0700\n",
            "Epoch [13/20], Step [1000/1378], Average Loss: 0.0900\n",
            "Epoch [13/20], Step [1100/1378], Average Loss: 0.0777\n",
            "Epoch [13/20], Step [1200/1378], Average Loss: 0.0821\n",
            "Epoch [13/20], Step [1300/1378], Average Loss: 0.0974\n",
            "Epoch [14/20], Step [100/1378], Average Loss: 0.0591\n",
            "Epoch [14/20], Step [200/1378], Average Loss: 0.0539\n",
            "Epoch [14/20], Step [300/1378], Average Loss: 0.0666\n",
            "Epoch [14/20], Step [400/1378], Average Loss: 0.0691\n",
            "Epoch [14/20], Step [500/1378], Average Loss: 0.0546\n",
            "Epoch [14/20], Step [600/1378], Average Loss: 0.0735\n",
            "Epoch [14/20], Step [700/1378], Average Loss: 0.0798\n",
            "Epoch [14/20], Step [800/1378], Average Loss: 0.0628\n",
            "Epoch [14/20], Step [900/1378], Average Loss: 0.0817\n",
            "Epoch [14/20], Step [1000/1378], Average Loss: 0.0813\n",
            "Epoch [14/20], Step [1100/1378], Average Loss: 0.0851\n",
            "Epoch [14/20], Step [1200/1378], Average Loss: 0.0912\n",
            "Epoch [14/20], Step [1300/1378], Average Loss: 0.0633\n",
            "Epoch [15/20], Step [100/1378], Average Loss: 0.0696\n",
            "Epoch [15/20], Step [200/1378], Average Loss: 0.0638\n",
            "Epoch [15/20], Step [300/1378], Average Loss: 0.0612\n",
            "Epoch [15/20], Step [400/1378], Average Loss: 0.0688\n",
            "Epoch [15/20], Step [500/1378], Average Loss: 0.0670\n",
            "Epoch [15/20], Step [600/1378], Average Loss: 0.0547\n",
            "Epoch [15/20], Step [700/1378], Average Loss: 0.0722\n",
            "Epoch [15/20], Step [800/1378], Average Loss: 0.0662\n",
            "Epoch [15/20], Step [900/1378], Average Loss: 0.0781\n",
            "Epoch [15/20], Step [1000/1378], Average Loss: 0.0757\n",
            "Epoch [15/20], Step [1100/1378], Average Loss: 0.0880\n",
            "Epoch [15/20], Step [1200/1378], Average Loss: 0.0773\n",
            "Epoch [15/20], Step [1300/1378], Average Loss: 0.0829\n",
            "Epoch [16/20], Step [100/1378], Average Loss: 0.0566\n",
            "Epoch [16/20], Step [200/1378], Average Loss: 0.0591\n",
            "Epoch [16/20], Step [300/1378], Average Loss: 0.0507\n",
            "Epoch [16/20], Step [400/1378], Average Loss: 0.0626\n",
            "Epoch [16/20], Step [500/1378], Average Loss: 0.0758\n",
            "Epoch [16/20], Step [600/1378], Average Loss: 0.0521\n",
            "Epoch [16/20], Step [700/1378], Average Loss: 0.0869\n",
            "Epoch [16/20], Step [800/1378], Average Loss: 0.0649\n",
            "Epoch [16/20], Step [900/1378], Average Loss: 0.0656\n",
            "Epoch [16/20], Step [1000/1378], Average Loss: 0.0800\n",
            "Epoch [16/20], Step [1100/1378], Average Loss: 0.0807\n",
            "Epoch [16/20], Step [1200/1378], Average Loss: 0.0854\n",
            "Epoch [16/20], Step [1300/1378], Average Loss: 0.0930\n",
            "Epoch [17/20], Step [100/1378], Average Loss: 0.0503\n",
            "Epoch [17/20], Step [200/1378], Average Loss: 0.0452\n",
            "Epoch [17/20], Step [300/1378], Average Loss: 0.0509\n",
            "Epoch [17/20], Step [400/1378], Average Loss: 0.0686\n",
            "Epoch [17/20], Step [500/1378], Average Loss: 0.0673\n",
            "Epoch [17/20], Step [600/1378], Average Loss: 0.0780\n",
            "Epoch [17/20], Step [700/1378], Average Loss: 0.0697\n",
            "Epoch [17/20], Step [800/1378], Average Loss: 0.0732\n",
            "Epoch [17/20], Step [900/1378], Average Loss: 0.0713\n",
            "Epoch [17/20], Step [1000/1378], Average Loss: 0.0764\n",
            "Epoch [17/20], Step [1100/1378], Average Loss: 0.0782\n",
            "Epoch [17/20], Step [1200/1378], Average Loss: 0.0618\n",
            "Epoch [17/20], Step [1300/1378], Average Loss: 0.0868\n",
            "Epoch [18/20], Step [100/1378], Average Loss: 0.0683\n",
            "Epoch [18/20], Step [200/1378], Average Loss: 0.0607\n",
            "Epoch [18/20], Step [300/1378], Average Loss: 0.0536\n",
            "Epoch [18/20], Step [400/1378], Average Loss: 0.0603\n",
            "Epoch [18/20], Step [500/1378], Average Loss: 0.0688\n",
            "Epoch [18/20], Step [600/1378], Average Loss: 0.0702\n",
            "Epoch [18/20], Step [700/1378], Average Loss: 0.0778\n",
            "Epoch [18/20], Step [800/1378], Average Loss: 0.0873\n",
            "Epoch [18/20], Step [900/1378], Average Loss: 0.0750\n",
            "Epoch [18/20], Step [1000/1378], Average Loss: 0.0810\n",
            "Epoch [18/20], Step [1100/1378], Average Loss: 0.0892\n",
            "Epoch [18/20], Step [1200/1378], Average Loss: 0.0811\n",
            "Epoch [18/20], Step [1300/1378], Average Loss: 0.0724\n",
            "Epoch [19/20], Step [100/1378], Average Loss: 0.0597\n",
            "Epoch [19/20], Step [200/1378], Average Loss: 0.0565\n",
            "Epoch [19/20], Step [300/1378], Average Loss: 0.0675\n",
            "Epoch [19/20], Step [400/1378], Average Loss: 0.0686\n",
            "Epoch [19/20], Step [500/1378], Average Loss: 0.0763\n",
            "Epoch [19/20], Step [600/1378], Average Loss: 0.0805\n",
            "Epoch [19/20], Step [700/1378], Average Loss: 0.0722\n",
            "Epoch [19/20], Step [800/1378], Average Loss: 0.0641\n",
            "Epoch [19/20], Step [900/1378], Average Loss: 0.0575\n",
            "Epoch [19/20], Step [1000/1378], Average Loss: 0.0646\n",
            "Epoch [19/20], Step [1100/1378], Average Loss: 0.0595\n",
            "Epoch [19/20], Step [1200/1378], Average Loss: 0.0650\n",
            "Epoch [19/20], Step [1300/1378], Average Loss: 0.0660\n",
            "Epoch [20/20], Step [100/1378], Average Loss: 0.0634\n",
            "Epoch [20/20], Step [200/1378], Average Loss: 0.0786\n",
            "Epoch [20/20], Step [300/1378], Average Loss: 0.0609\n",
            "Epoch [20/20], Step [400/1378], Average Loss: 0.0610\n",
            "Epoch [20/20], Step [500/1378], Average Loss: 0.0467\n",
            "Epoch [20/20], Step [600/1378], Average Loss: 0.0667\n",
            "Epoch [20/20], Step [700/1378], Average Loss: 0.0659\n",
            "Epoch [20/20], Step [800/1378], Average Loss: 0.0629\n",
            "Epoch [20/20], Step [900/1378], Average Loss: 0.0665\n",
            "Epoch [20/20], Step [1000/1378], Average Loss: 0.0674\n",
            "Epoch [20/20], Step [1100/1378], Average Loss: 0.0677\n",
            "Epoch [20/20], Step [1200/1378], Average Loss: 0.1026\n",
            "Epoch [20/20], Step [1300/1378], Average Loss: 0.1037\n",
            "\n",
            "End of Epoch 20/20, Average Epoch Loss: 0.0040\n"
          ]
        }
      ]
    },
    {
      "cell_type": "code",
      "source": [
        "def validation(model, val_loader, criterion):\n",
        "  model.eval()\n",
        "  running_loss = 0.0\n",
        "  correct = 0\n",
        "  total = 0\n",
        "  with torch.no_grad():\n",
        "    for images, labels in val_loader:\n",
        "      outputs = model(images)\n",
        "      loss = criterion(outputs, labels)\n",
        "      running_loss += loss.item()\n",
        "      _, predicted = torch.max(outputs.data, 1)\n",
        "      total += labels.size(0)\n",
        "      correct += (predicted == labels).sum().item()\n",
        "\n",
        "  avg_loss = running_loss / len(val_loader)\n",
        "  accuray = 100 * correct / total\n",
        "  print(f\"Validation loss : {avg_loss: .4f}, Validation accruay: {accuray: .2f}%\")\n",
        ""
      ],
      "metadata": {
        "id": "ZfQHH5Fq4cSD"
      },
      "execution_count": 44,
      "outputs": []
    },
    {
      "cell_type": "code",
      "source": [
        "def test(model, test_loader, criterion):\n",
        "  model.eval()\n",
        "  running_loss = 0.0\n",
        "  correct = 0\n",
        "  total = 0\n",
        "  with torch.no_grad():\n",
        "    for images, labels in test_loader:\n",
        "      outputs = model(images)\n",
        "      loss = criterion(outputs, labels)\n",
        "      running_loss += loss.item()\n",
        "      _, predicted = torch.max(outputs.data, 1)\n",
        "      total += labels.size(0)\n",
        "      correct += (predicted == labels).sum().item()\n",
        "\n",
        "  avg_loss = running_loss / len(test_loader)\n",
        "  accuray = 100 * correct / total\n",
        "  print(f\"Test loss : {avg_loss: .4f}, Test accruay: {accuray: .2f}%\")"
      ],
      "metadata": {
        "id": "wY6S7f8Mk8WQ"
      },
      "execution_count": 46,
      "outputs": []
    },
    {
      "cell_type": "code",
      "source": [
        "validation(model, val_loader, criterion)"
      ],
      "metadata": {
        "id": "jzhzYAgurkXn"
      },
      "execution_count": null,
      "outputs": []
    },
    {
      "cell_type": "code",
      "source": [
        "test(model, test_loader, criterion)"
      ],
      "metadata": {
        "id": "Yxvx1p3ar43M"
      },
      "execution_count": null,
      "outputs": []
    },
    {
      "cell_type": "code",
      "source": [
        "# save model\n",
        "torch.save(model.state_dict(), '/content/PyTorch_OCR.pth')\n",
        "\n",
        "# load model\n",
        "\n",
        "model = OCRNet(num_features)\n",
        "\n",
        "model.load_state_dict(torch.load('/content/PyTorch_OCR.pth'))\n",
        "\n",
        "\n",
        "# eval\n",
        "model.eval()\n"
      ],
      "metadata": {
        "colab": {
          "base_uri": "https://localhost:8080/"
        },
        "id": "Bee-22uboA5N",
        "outputId": "85bcafee-1dd1-47b7-cf29-2b2a1fd22ed7"
      },
      "execution_count": 49,
      "outputs": [
        {
          "output_type": "stream",
          "name": "stderr",
          "text": [
            "<ipython-input-49-cdbc37d91fa4>:8: FutureWarning: You are using `torch.load` with `weights_only=False` (the current default value), which uses the default pickle module implicitly. It is possible to construct malicious pickle data which will execute arbitrary code during unpickling (See https://github.com/pytorch/pytorch/blob/main/SECURITY.md#untrusted-models for more details). In a future release, the default value for `weights_only` will be flipped to `True`. This limits the functions that could be executed during unpickling. Arbitrary objects will no longer be allowed to be loaded via this mode unless they are explicitly allowlisted by the user via `torch.serialization.add_safe_globals`. We recommend you start setting `weights_only=True` for any use case where you don't have full control of the loaded file. Please open an issue on GitHub for any issues related to this experimental feature.\n",
            "  model.load_state_dict(torch.load('/content/PyTorch_OCR.pth'))\n"
          ]
        },
        {
          "output_type": "execute_result",
          "data": {
            "text/plain": [
              "OCRNet(\n",
              "  (conv1): Conv2d(3, 16, kernel_size=(3, 3), stride=(1, 1), padding=(1, 1))\n",
              "  (conv2): Conv2d(16, 32, kernel_size=(3, 3), stride=(1, 1), padding=(1, 1))\n",
              "  (fc): Linear(in_features=73728, out_features=62, bias=True)\n",
              ")"
            ]
          },
          "metadata": {},
          "execution_count": 49
        }
      ]
    },
    {
      "cell_type": "code",
      "source": [
        "import torch\n",
        "import torch.nn.functional as F\n",
        "import torchvision.transforms as transforms\n",
        "import cv2\n",
        "import numpy as np\n",
        "import matplotlib.pyplot as plt\n",
        "\n",
        "# Define the transformation\n",
        "preprocess = transforms.Compose([\n",
        "    transforms.ToPILImage(),              # Convert from OpenCV (NumPy) to PIL format\n",
        "    transforms.Resize((48, 48)),          # Resize the image to 48x48\n",
        "    transforms.ToTensor(),                # Convert to PyTorch tensor\n",
        "    transforms.Normalize((0.5,), (0.5,))  # Normalize the image\n",
        "])\n",
        "\n",
        "# Define the classes\n",
        "classes = list('0123456789ABCDEFGHIJKLMNOPQRSTUVWXYZabcdefghijklmnopqrstuvwxyz')\n",
        "\n",
        "def predict(model, image):\n",
        "    model.eval()  # Set the model to evaluation mode\n",
        "    with torch.no_grad():\n",
        "        # Forward pass\n",
        "        output = model(image)\n",
        "        probabilities = F.softmax(output, dim=1)\n",
        "        predicted_prob, predicted_idx = torch.max(probabilities, 1)\n",
        "\n",
        "        predicted_class = classes[predicted_idx.item()]\n",
        "        confidence = predicted_prob.item() * 100  # Convert to percentage\n",
        "\n",
        "        print(f'Predicted Class: {predicted_class}, Confidence: {confidence:.2f}%')\n",
        "\n",
        "        return predicted_class, confidence\n",
        "\n",
        "image_path = '/content/EnglishFnt/English/Fnt/Sample062/img062-00030.png'\n",
        "\n",
        "image = cv2.imread(image_path, cv2.IMREAD_COLOR)  # Load the image in BGR format\n",
        "\n",
        "image = cv2.cvtColor(image, cv2.COLOR_BGR2RGB)\n",
        "\n",
        "image = preprocess(image).unsqueeze(0)  # Add batch dimension\n",
        "\n",
        "predicted_class, confidence = predict(model, image)\n",
        "\n",
        "# Display the image with prediction\n",
        "image_display = cv2.imread(image_path, cv2.IMREAD_COLOR)  # Read the original image\n",
        "image_display = cv2.cvtColor(image_display, cv2.COLOR_BGR2RGB)  # Convert to RGB for display\n",
        "plt.imshow(image_display)\n",
        "plt.title(f'Predicted Class: {predicted_class}, Confidence: {confidence:.2f}%')\n",
        "plt.axis('off')\n",
        "plt.show()\n"
      ],
      "metadata": {
        "id": "ddPQ0pcjoUbk"
      },
      "execution_count": null,
      "outputs": []
    },
    {
      "cell_type": "code",
      "source": [],
      "metadata": {
        "id": "aGwUrWSisdCz"
      },
      "execution_count": null,
      "outputs": []
    }
  ]
}